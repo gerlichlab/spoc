{
 "cells": [
  {
   "cell_type": "markdown",
   "metadata": {},
   "source": [
    "# Query engine\n",
    "This technical document describes the spoc query engine, a set of classes that implements spoc's interface for querying multi-dimensional genomic data."
   ]
  },
  {
   "cell_type": "markdown",
   "metadata": {},
   "source": [
    "## Principles\n",
    "\n",
    "### Composable pieces\n",
    "Spoc's query engine consists of composable pieces that can be combined to produce an expressive query language. These pieces represent basic operations on genomic data that are easily implemented and understood on their own. This allows a great degree of flexibility, while also allowing predefined recipes that less experienced users can get started with.\n",
    "\n",
    "### Lazy evaluation\n",
    "The spoc query engine is designed with lazy evaluation as a guiding principle. This means that data queries are only executed when they are needed to minimize loading data into memory and computational overhead. To enable this, spoc queries have a construction phase, which specifies the operations to be executed and an execution phase, that actually executes the query."
   ]
  },
  {
   "cell_type": "markdown",
   "metadata": {},
   "source": [
    "## Query plans and query steps\n",
    "\n",
    "The most important ingredient in this query language is a class that implements the `QueryStep` protocol. This protocol serves two purposes:\n",
    "\n",
    "- It exposes a way to validate the data schema during query building\n",
    "- It implements adding itself to a query\n",
    "\n",
    "This way, query steps can be combined into a query plan that specifies the analysis to be executed. Specific examples of query steps are:\n",
    "\n",
    "- **Snipper**: Implements selecting overlapping contacts or pixels for a set of genomic regions.\n",
    "- **RegionOffsetTransformation**: Adds offset of genomic positions to regions added by snipper\n",
    "- **OffsetAggregation**: Aggregates the offsets to genomic regions using an aggregation function.\n",
    "\n",
    "### Input and output of query steps\n",
    "\n",
    "A query step takes as input a class that implements the `GenomicData` protocol. This protocol allows retrievel of the data schema (a thin wrapper over a pandera dataframe schema) as well as the data itself. The output of a query step is again a class that ipmlements the `GenomicData` protocol to allow composition. Specific examples of possible inputs are:\n",
    "\n",
    "- **Pixels**: Represents input pixels\n",
    "- **Contacts**: Represents input contacts\n",
    "- **QueryResult**: The result of a query step\n",
    "\n",
    "### Composition of query steps\n",
    "\n",
    "To allow specifying complex queries, query steps need to be combined. This is done using the `BasicQuery` class. It takes a query plan (a list of `QueryStep` instances) as input, exposes the `query` method, which takes input data, validates all query steps and adds them to the resulting `QueryResult` instance that is returned.\n",
    "\n",
    "### Manifestation of results\n",
    "\n",
    "So far, we have only talked about specifying the query to be executed, but not how to actually execute it. A `QueryResult` has a `load_result()` method that returns the manifested dataframe as a `pd.DataFrame` instance. This is the step that actually executes the specified query."
   ]
  },
  {
   "cell_type": "markdown",
   "metadata": {},
   "source": [
    "## Examples"
   ]
  },
  {
   "cell_type": "markdown",
   "metadata": {},
   "source": [
    "### Selecting a subset of contacts at a single genomic position\n",
    "In this example, we want to select a subset of genomic contacts at a single location. For this, we first load the required input data:"
   ]
  },
  {
   "cell_type": "code",
   "execution_count": 1,
   "metadata": {},
   "outputs": [],
   "source": [
    "from spoc.query_engine import Snipper, Anchor, BasicQuery\n",
    "from spoc.contacts import Contacts\n",
    "import pandas as pd\n",
    "\n",
    "contacts = Contacts.from_uri(\"../tests/test_files/contacts_unlabelled_2d_v2.parquet::2\")"
   ]
  },
  {
   "cell_type": "markdown",
   "metadata": {},
   "source": [
    "Then we specify a target region"
   ]
  },
  {
   "cell_type": "code",
   "execution_count": 2,
   "metadata": {},
   "outputs": [],
   "source": [
    "target_region = pd.DataFrame({\n",
    "    \"chrom\": ['chr1'],\n",
    "    \"start\": [100],\n",
    "    \"end\": [400],\n",
    "})"
   ]
  },
  {
   "cell_type": "markdown",
   "metadata": {},
   "source": [
    "First, we want to select all contacts where any of the fragments constituting the contact overlaps the target region. To perform this action, we use the Snipper class and pass the target region as well as an instance of the `Anchor` class. The `Anchor` dataclass allows us to specify how we want to filter contacts for region overlap. It has two attributes `mode` and `anchors`. `Anchors` indicates the positions we want to filter on (default is all positions) and `mode` specifies whether we require all positions to overlap or any position to overlap. So for example, if we want all of our two-way contacts for which any of the positions overlap, we would use `Anchor(mode='ANY', anchors=[1,2])`."
   ]
  },
  {
   "cell_type": "code",
   "execution_count": 3,
   "metadata": {},
   "outputs": [],
   "source": [
    "query_plan = [\n",
    "    Snipper(target_region, anchor_mode=Anchor(mode=\"ANY\", anchors=[1,2]))\n",
    "]"
   ]
  },
  {
   "cell_type": "markdown",
   "metadata": {},
   "source": [
    "A query plan is a list of qury steps that can be used in the basic query class"
   ]
  },
  {
   "cell_type": "code",
   "execution_count": 4,
   "metadata": {},
   "outputs": [],
   "source": [
    "query = BasicQuery(query_plan=query_plan)"
   ]
  },
  {
   "cell_type": "markdown",
   "metadata": {},
   "source": [
    "The `.query` method executes the query plan and retuns a `QueryResult` object"
   ]
  },
  {
   "cell_type": "code",
   "execution_count": 5,
   "metadata": {},
   "outputs": [
    {
     "data": {
      "text/plain": [
       "<spoc.query_engine.QueryResult at 0x1f7f89093d0>"
      ]
     },
     "execution_count": 5,
     "metadata": {},
     "output_type": "execute_result"
    }
   ],
   "source": [
    "result = query.query(contacts)\n",
    "result"
   ]
  },
  {
   "cell_type": "markdown",
   "metadata": {},
   "source": [
    "The `.load_result` method of the `QueryResult` object can be executed using `.load_result`, which returns a `pd.DataFrame`. The resulting dataframe has additional columns that represent the regions, with which the input contacts overlapped."
   ]
  },
  {
   "cell_type": "code",
   "execution_count": 6,
   "metadata": {},
   "outputs": [
    {
     "name": "stdout",
     "output_type": "stream",
     "text": [
      "<class 'pandas.core.frame.DataFrame'>\n"
     ]
    },
    {
     "data": {
      "text/html": [
       "<div>\n",
       "<style scoped>\n",
       "    .dataframe tbody tr th:only-of-type {\n",
       "        vertical-align: middle;\n",
       "    }\n",
       "\n",
       "    .dataframe tbody tr th {\n",
       "        vertical-align: top;\n",
       "    }\n",
       "\n",
       "    .dataframe thead th {\n",
       "        text-align: right;\n",
       "    }\n",
       "</style>\n",
       "<table border=\"1\" class=\"dataframe\">\n",
       "  <thead>\n",
       "    <tr style=\"text-align: right;\">\n",
       "      <th></th>\n",
       "      <th>chrom_1</th>\n",
       "      <th>start_1</th>\n",
       "      <th>end_1</th>\n",
       "      <th>chrom_2</th>\n",
       "      <th>start_2</th>\n",
       "      <th>end_2</th>\n",
       "      <th>region_chrom</th>\n",
       "      <th>region_start</th>\n",
       "      <th>region_end</th>\n",
       "      <th>region_id</th>\n",
       "    </tr>\n",
       "  </thead>\n",
       "  <tbody>\n",
       "    <tr>\n",
       "      <th>0</th>\n",
       "      <td>chr1</td>\n",
       "      <td>100</td>\n",
       "      <td>200</td>\n",
       "      <td>chr1</td>\n",
       "      <td>1000</td>\n",
       "      <td>2000</td>\n",
       "      <td>chr1</td>\n",
       "      <td>100</td>\n",
       "      <td>400</td>\n",
       "      <td>0</td>\n",
       "    </tr>\n",
       "    <tr>\n",
       "      <th>1</th>\n",
       "      <td>chr1</td>\n",
       "      <td>2000</td>\n",
       "      <td>3000</td>\n",
       "      <td>chr1</td>\n",
       "      <td>200</td>\n",
       "      <td>300</td>\n",
       "      <td>chr1</td>\n",
       "      <td>100</td>\n",
       "      <td>400</td>\n",
       "      <td>0</td>\n",
       "    </tr>\n",
       "    <tr>\n",
       "      <th>2</th>\n",
       "      <td>chr1</td>\n",
       "      <td>3000</td>\n",
       "      <td>4000</td>\n",
       "      <td>chr1</td>\n",
       "      <td>300</td>\n",
       "      <td>400</td>\n",
       "      <td>chr1</td>\n",
       "      <td>100</td>\n",
       "      <td>400</td>\n",
       "      <td>0</td>\n",
       "    </tr>\n",
       "  </tbody>\n",
       "</table>\n",
       "</div>"
      ],
      "text/plain": [
       "  chrom_1  start_1  end_1 chrom_2  start_2  end_2 region_chrom  region_start  \\\n",
       "0    chr1      100    200    chr1     1000   2000         chr1           100   \n",
       "1    chr1     2000   3000    chr1      200    300         chr1           100   \n",
       "2    chr1     3000   4000    chr1      300    400         chr1           100   \n",
       "\n",
       "   region_end  region_id  \n",
       "0         400          0  \n",
       "1         400          0  \n",
       "2         400          0  "
      ]
     },
     "execution_count": 6,
     "metadata": {},
     "output_type": "execute_result"
    }
   ],
   "source": [
    "df = result.load_result()\n",
    "print(type(df))\n",
    "df.filter(regex=r\"chrom|start|end|id\")"
   ]
  },
  {
   "cell_type": "markdown",
   "metadata": {},
   "source": [
    "We can also restrict the positions to filter on, by passing different anchor parameters. For example, we can filter for contacts, where the first position overlaps with our target:"
   ]
  },
  {
   "cell_type": "code",
   "execution_count": 7,
   "metadata": {},
   "outputs": [
    {
     "data": {
      "text/html": [
       "<div>\n",
       "<style scoped>\n",
       "    .dataframe tbody tr th:only-of-type {\n",
       "        vertical-align: middle;\n",
       "    }\n",
       "\n",
       "    .dataframe tbody tr th {\n",
       "        vertical-align: top;\n",
       "    }\n",
       "\n",
       "    .dataframe thead th {\n",
       "        text-align: right;\n",
       "    }\n",
       "</style>\n",
       "<table border=\"1\" class=\"dataframe\">\n",
       "  <thead>\n",
       "    <tr style=\"text-align: right;\">\n",
       "      <th></th>\n",
       "      <th>chrom_1</th>\n",
       "      <th>start_1</th>\n",
       "      <th>end_1</th>\n",
       "      <th>chrom_2</th>\n",
       "      <th>start_2</th>\n",
       "      <th>end_2</th>\n",
       "      <th>region_chrom</th>\n",
       "      <th>region_start</th>\n",
       "      <th>region_end</th>\n",
       "      <th>region_id</th>\n",
       "    </tr>\n",
       "  </thead>\n",
       "  <tbody>\n",
       "    <tr>\n",
       "      <th>0</th>\n",
       "      <td>chr1</td>\n",
       "      <td>100</td>\n",
       "      <td>200</td>\n",
       "      <td>chr1</td>\n",
       "      <td>1000</td>\n",
       "      <td>2000</td>\n",
       "      <td>chr1</td>\n",
       "      <td>100</td>\n",
       "      <td>400</td>\n",
       "      <td>0</td>\n",
       "    </tr>\n",
       "  </tbody>\n",
       "</table>\n",
       "</div>"
      ],
      "text/plain": [
       "  chrom_1  start_1  end_1 chrom_2  start_2  end_2 region_chrom  region_start  \\\n",
       "0    chr1      100    200    chr1     1000   2000         chr1           100   \n",
       "\n",
       "   region_end  region_id  \n",
       "0         400          0  "
      ]
     },
     "execution_count": 7,
     "metadata": {},
     "output_type": "execute_result"
    }
   ],
   "source": [
    "query_plan = [\n",
    "    Snipper(target_region, anchor_mode=Anchor(mode=\"ANY\", anchors=[1]))\n",
    "]\n",
    "BasicQuery(query_plan=query_plan)\\\n",
    "    .query(contacts)\\\n",
    "    .load_result()\\\n",
    "    .filter(regex=r\"chrom|start|end|id\")"
   ]
  },
  {
   "cell_type": "markdown",
   "metadata": {},
   "source": [
    "This time, only the first contact overlaps."
   ]
  },
  {
   "cell_type": "markdown",
   "metadata": {},
   "source": [
    "The same functionality is implemented also for the Pixels class"
   ]
  },
  {
   "cell_type": "markdown",
   "metadata": {},
   "source": [
    "## Selecting a subset of contacts at multiple genomic regions\n",
    "The Snipper class is also capable of selecting contacts at multiple genomic regions. Here, the behavior of `Snipper` deviates from a simple filter, because if a given contact overlaps with multiple regions, it will be returned multiple times."
   ]
  },
  {
   "cell_type": "markdown",
   "metadata": {},
   "source": [
    "Specify target regions"
   ]
  },
  {
   "cell_type": "code",
   "execution_count": 8,
   "metadata": {},
   "outputs": [],
   "source": [
    "target_regions = pd.DataFrame({\n",
    "    \"chrom\": ['chr1', 'chr1'],\n",
    "    \"start\": [100, 150],\n",
    "    \"end\": [400, 200],\n",
    "})"
   ]
  },
  {
   "cell_type": "code",
   "execution_count": 9,
   "metadata": {},
   "outputs": [
    {
     "data": {
      "text/html": [
       "<div>\n",
       "<style scoped>\n",
       "    .dataframe tbody tr th:only-of-type {\n",
       "        vertical-align: middle;\n",
       "    }\n",
       "\n",
       "    .dataframe tbody tr th {\n",
       "        vertical-align: top;\n",
       "    }\n",
       "\n",
       "    .dataframe thead th {\n",
       "        text-align: right;\n",
       "    }\n",
       "</style>\n",
       "<table border=\"1\" class=\"dataframe\">\n",
       "  <thead>\n",
       "    <tr style=\"text-align: right;\">\n",
       "      <th></th>\n",
       "      <th>chrom_1</th>\n",
       "      <th>start_1</th>\n",
       "      <th>end_1</th>\n",
       "      <th>chrom_2</th>\n",
       "      <th>start_2</th>\n",
       "      <th>end_2</th>\n",
       "      <th>region_chrom</th>\n",
       "      <th>region_start</th>\n",
       "      <th>region_end</th>\n",
       "      <th>region_id</th>\n",
       "    </tr>\n",
       "  </thead>\n",
       "  <tbody>\n",
       "    <tr>\n",
       "      <th>0</th>\n",
       "      <td>chr1</td>\n",
       "      <td>100</td>\n",
       "      <td>200</td>\n",
       "      <td>chr1</td>\n",
       "      <td>1000</td>\n",
       "      <td>2000</td>\n",
       "      <td>chr1</td>\n",
       "      <td>100</td>\n",
       "      <td>400</td>\n",
       "      <td>0</td>\n",
       "    </tr>\n",
       "    <tr>\n",
       "      <th>1</th>\n",
       "      <td>chr1</td>\n",
       "      <td>100</td>\n",
       "      <td>200</td>\n",
       "      <td>chr1</td>\n",
       "      <td>1000</td>\n",
       "      <td>2000</td>\n",
       "      <td>chr1</td>\n",
       "      <td>150</td>\n",
       "      <td>200</td>\n",
       "      <td>1</td>\n",
       "    </tr>\n",
       "  </tbody>\n",
       "</table>\n",
       "</div>"
      ],
      "text/plain": [
       "  chrom_1  start_1  end_1 chrom_2  start_2  end_2 region_chrom  region_start  \\\n",
       "0    chr1      100    200    chr1     1000   2000         chr1           100   \n",
       "1    chr1      100    200    chr1     1000   2000         chr1           150   \n",
       "\n",
       "   region_end  region_id  \n",
       "0         400          0  \n",
       "1         200          1  "
      ]
     },
     "execution_count": 9,
     "metadata": {},
     "output_type": "execute_result"
    }
   ],
   "source": [
    "query_plan = [\n",
    "    Snipper(target_regions, anchor_mode=Anchor(mode=\"ANY\", anchors=[1]))\n",
    "]\n",
    "BasicQuery(query_plan=query_plan)\\\n",
    "    .query(contacts)\\\n",
    "    .load_result()\\\n",
    "    .filter(regex=r\"chrom|start|end|id\")"
   ]
  },
  {
   "cell_type": "markdown",
   "metadata": {},
   "source": [
    "In this example, the contact overlapping both regions is duplicated."
   ]
  },
  {
   "cell_type": "markdown",
   "metadata": {},
   "source": [
    "The same functionality is implemented also for the pixels class."
   ]
  },
  {
   "cell_type": "markdown",
   "metadata": {},
   "source": [
    "## Calculating the offset to a target region and aggregating the result\n",
    "In this example, we calculate the offset of pixels to target regions and aggregate based on the offsets. This is a very common use case in so-called pileup analyses, where we want to investigate the average behavior around regions of interest."
   ]
  },
  {
   "cell_type": "code",
   "execution_count": 27,
   "metadata": {},
   "outputs": [],
   "source": [
    "from spoc.pixels import Pixels\n",
    "from spoc.query_engine import RegionOffsetTransformation\n",
    "import pandas as pd\n",
    "import numpy as np\n",
    "from itertools import product"
   ]
  },
  {
   "cell_type": "markdown",
   "metadata": {},
   "source": [
    "First we define a set of target pixels"
   ]
  },
  {
   "cell_type": "code",
   "execution_count": 21,
   "metadata": {},
   "outputs": [],
   "source": [
    "def complete_synthetic_pixels():\n",
    "    \"\"\"Pixels that span two regions densely\"\"\"\n",
    "    np.random.seed(42)\n",
    "    # genomic region_1\n",
    "    pixels_1 = [\n",
    "        {\n",
    "            \"chrom\": tup[0],\n",
    "            \"start_1\": tup[1],\n",
    "            \"start_2\": tup[2],\n",
    "            \"start_3\": tup[3],\n",
    "            \"count\": np.random.randint(0, 10),\n",
    "        }\n",
    "        for tup in product(\n",
    "            [\"chr1\"],\n",
    "            np.arange(900_000, 1_150_000, 50_000),\n",
    "            np.arange(900_000, 1_150_000, 50_000),\n",
    "            np.arange(900_000, 1_150_000, 50_000),\n",
    "        )\n",
    "    ]\n",
    "    # genomic region_2\n",
    "    pixels_2 = [\n",
    "        {\n",
    "            \"chrom\": tup[0],\n",
    "            \"start_1\": tup[1],\n",
    "            \"start_2\": tup[2],\n",
    "            \"start_3\": tup[3],\n",
    "            \"count\": np.random.randint(0, 10),\n",
    "        }\n",
    "        for tup in product(\n",
    "            [\"chr2\"],\n",
    "            np.arange(900_000, 1_150_000, 50_000),\n",
    "            np.arange(900_000, 1_150_000, 50_000),\n",
    "            np.arange(900_000, 1_150_000, 50_000),\n",
    "        )\n",
    "    ]\n",
    "    return pd.concat((pd.DataFrame(pixels_1), pd.DataFrame(pixels_2)))"
   ]
  },
  {
   "cell_type": "code",
   "execution_count": 23,
   "metadata": {},
   "outputs": [],
   "source": [
    "pixels = Pixels(complete_synthetic_pixels(), number_fragments=3, binsize=50_000)"
   ]
  },
  {
   "cell_type": "markdown",
   "metadata": {},
   "source": [
    "Then we define the target regions we are interested in."
   ]
  },
  {
   "cell_type": "code",
   "execution_count": 24,
   "metadata": {},
   "outputs": [],
   "source": [
    "target_regions = pd.DataFrame(\n",
    "        {\n",
    "            \"chrom\": [\"chr1\", \"chr2\"],\n",
    "            \"start\": [900_000, 900_000],\n",
    "            \"end\": [1_100_000, 1_100_000],\n",
    "        }\n",
    "    )"
   ]
  },
  {
   "cell_type": "markdown",
   "metadata": {},
   "source": [
    "We are then interested in selecting all contacts that are contained within these pixels and then calculate the offset to them. The selection step can be done with the `Snipper` class that we described above. The offset transformation can be done with the `OffsetTransformation` query step. This query step takes an instance of genomic data that contains regions (as defined by it's schema) and calculates the offset to all position columns. All offsets are calculated with regards to the center of each assigned region. Since genomic positions are defined by a start and end,the `OffsetTransformation` query step as an `OffsetMode` parameter that defines whether we would like to calculate the offset with regard to the start of a genomic position, the end or it's center."
   ]
  },
  {
   "cell_type": "code",
   "execution_count": 28,
   "metadata": {},
   "outputs": [],
   "source": [
    "query_plan = [\n",
    "    Snipper(target_regions, anchor_mode=Anchor(mode=\"ANY\")),\n",
    "    RegionOffsetTransformation(),\n",
    "]"
   ]
  },
  {
   "cell_type": "markdown",
   "metadata": {},
   "source": [
    "We can then execute this query plan using the BasicQuery class. This well add an offset column to the genomic dataset returned."
   ]
  },
  {
   "cell_type": "code",
   "execution_count": 31,
   "metadata": {},
   "outputs": [
    {
     "data": {
      "text/html": [
       "<div>\n",
       "<style scoped>\n",
       "    .dataframe tbody tr th:only-of-type {\n",
       "        vertical-align: middle;\n",
       "    }\n",
       "\n",
       "    .dataframe tbody tr th {\n",
       "        vertical-align: top;\n",
       "    }\n",
       "\n",
       "    .dataframe thead th {\n",
       "        text-align: right;\n",
       "    }\n",
       "</style>\n",
       "<table border=\"1\" class=\"dataframe\">\n",
       "  <thead>\n",
       "    <tr style=\"text-align: right;\">\n",
       "      <th></th>\n",
       "      <th>chrom_1</th>\n",
       "      <th>start_1</th>\n",
       "      <th>chrom_2</th>\n",
       "      <th>start_2</th>\n",
       "      <th>chrom_3</th>\n",
       "      <th>start_3</th>\n",
       "      <th>region_chrom</th>\n",
       "      <th>region_start</th>\n",
       "      <th>offset_1</th>\n",
       "      <th>offset_2</th>\n",
       "      <th>offset_3</th>\n",
       "    </tr>\n",
       "  </thead>\n",
       "  <tbody>\n",
       "    <tr>\n",
       "      <th>0</th>\n",
       "      <td>chr1</td>\n",
       "      <td>900000</td>\n",
       "      <td>chr1</td>\n",
       "      <td>900000</td>\n",
       "      <td>chr1</td>\n",
       "      <td>900000</td>\n",
       "      <td>chr1</td>\n",
       "      <td>900000</td>\n",
       "      <td>-100000.0</td>\n",
       "      <td>-100000.0</td>\n",
       "      <td>-100000.0</td>\n",
       "    </tr>\n",
       "    <tr>\n",
       "      <th>1</th>\n",
       "      <td>chr1</td>\n",
       "      <td>900000</td>\n",
       "      <td>chr1</td>\n",
       "      <td>900000</td>\n",
       "      <td>chr1</td>\n",
       "      <td>950000</td>\n",
       "      <td>chr1</td>\n",
       "      <td>900000</td>\n",
       "      <td>-100000.0</td>\n",
       "      <td>-100000.0</td>\n",
       "      <td>-50000.0</td>\n",
       "    </tr>\n",
       "    <tr>\n",
       "      <th>2</th>\n",
       "      <td>chr1</td>\n",
       "      <td>900000</td>\n",
       "      <td>chr1</td>\n",
       "      <td>900000</td>\n",
       "      <td>chr1</td>\n",
       "      <td>1000000</td>\n",
       "      <td>chr1</td>\n",
       "      <td>900000</td>\n",
       "      <td>-100000.0</td>\n",
       "      <td>-100000.0</td>\n",
       "      <td>0.0</td>\n",
       "    </tr>\n",
       "    <tr>\n",
       "      <th>3</th>\n",
       "      <td>chr1</td>\n",
       "      <td>900000</td>\n",
       "      <td>chr1</td>\n",
       "      <td>900000</td>\n",
       "      <td>chr1</td>\n",
       "      <td>1050000</td>\n",
       "      <td>chr1</td>\n",
       "      <td>900000</td>\n",
       "      <td>-100000.0</td>\n",
       "      <td>-100000.0</td>\n",
       "      <td>50000.0</td>\n",
       "    </tr>\n",
       "    <tr>\n",
       "      <th>4</th>\n",
       "      <td>chr1</td>\n",
       "      <td>900000</td>\n",
       "      <td>chr1</td>\n",
       "      <td>900000</td>\n",
       "      <td>chr1</td>\n",
       "      <td>1100000</td>\n",
       "      <td>chr1</td>\n",
       "      <td>900000</td>\n",
       "      <td>-100000.0</td>\n",
       "      <td>-100000.0</td>\n",
       "      <td>100000.0</td>\n",
       "    </tr>\n",
       "    <tr>\n",
       "      <th>...</th>\n",
       "      <td>...</td>\n",
       "      <td>...</td>\n",
       "      <td>...</td>\n",
       "      <td>...</td>\n",
       "      <td>...</td>\n",
       "      <td>...</td>\n",
       "      <td>...</td>\n",
       "      <td>...</td>\n",
       "      <td>...</td>\n",
       "      <td>...</td>\n",
       "      <td>...</td>\n",
       "    </tr>\n",
       "    <tr>\n",
       "      <th>245</th>\n",
       "      <td>chr2</td>\n",
       "      <td>1100000</td>\n",
       "      <td>chr2</td>\n",
       "      <td>1100000</td>\n",
       "      <td>chr2</td>\n",
       "      <td>900000</td>\n",
       "      <td>chr2</td>\n",
       "      <td>900000</td>\n",
       "      <td>100000.0</td>\n",
       "      <td>100000.0</td>\n",
       "      <td>-100000.0</td>\n",
       "    </tr>\n",
       "    <tr>\n",
       "      <th>246</th>\n",
       "      <td>chr2</td>\n",
       "      <td>1100000</td>\n",
       "      <td>chr2</td>\n",
       "      <td>1100000</td>\n",
       "      <td>chr2</td>\n",
       "      <td>950000</td>\n",
       "      <td>chr2</td>\n",
       "      <td>900000</td>\n",
       "      <td>100000.0</td>\n",
       "      <td>100000.0</td>\n",
       "      <td>-50000.0</td>\n",
       "    </tr>\n",
       "    <tr>\n",
       "      <th>247</th>\n",
       "      <td>chr2</td>\n",
       "      <td>1100000</td>\n",
       "      <td>chr2</td>\n",
       "      <td>1100000</td>\n",
       "      <td>chr2</td>\n",
       "      <td>1000000</td>\n",
       "      <td>chr2</td>\n",
       "      <td>900000</td>\n",
       "      <td>100000.0</td>\n",
       "      <td>100000.0</td>\n",
       "      <td>0.0</td>\n",
       "    </tr>\n",
       "    <tr>\n",
       "      <th>248</th>\n",
       "      <td>chr2</td>\n",
       "      <td>1100000</td>\n",
       "      <td>chr2</td>\n",
       "      <td>1100000</td>\n",
       "      <td>chr2</td>\n",
       "      <td>1050000</td>\n",
       "      <td>chr2</td>\n",
       "      <td>900000</td>\n",
       "      <td>100000.0</td>\n",
       "      <td>100000.0</td>\n",
       "      <td>50000.0</td>\n",
       "    </tr>\n",
       "    <tr>\n",
       "      <th>249</th>\n",
       "      <td>chr2</td>\n",
       "      <td>1100000</td>\n",
       "      <td>chr2</td>\n",
       "      <td>1100000</td>\n",
       "      <td>chr2</td>\n",
       "      <td>1100000</td>\n",
       "      <td>chr2</td>\n",
       "      <td>900000</td>\n",
       "      <td>100000.0</td>\n",
       "      <td>100000.0</td>\n",
       "      <td>100000.0</td>\n",
       "    </tr>\n",
       "  </tbody>\n",
       "</table>\n",
       "<p>250 rows × 11 columns</p>\n",
       "</div>"
      ],
      "text/plain": [
       "    chrom_1  start_1 chrom_2  start_2 chrom_3  start_3 region_chrom  \\\n",
       "0      chr1   900000    chr1   900000    chr1   900000         chr1   \n",
       "1      chr1   900000    chr1   900000    chr1   950000         chr1   \n",
       "2      chr1   900000    chr1   900000    chr1  1000000         chr1   \n",
       "3      chr1   900000    chr1   900000    chr1  1050000         chr1   \n",
       "4      chr1   900000    chr1   900000    chr1  1100000         chr1   \n",
       "..      ...      ...     ...      ...     ...      ...          ...   \n",
       "245    chr2  1100000    chr2  1100000    chr2   900000         chr2   \n",
       "246    chr2  1100000    chr2  1100000    chr2   950000         chr2   \n",
       "247    chr2  1100000    chr2  1100000    chr2  1000000         chr2   \n",
       "248    chr2  1100000    chr2  1100000    chr2  1050000         chr2   \n",
       "249    chr2  1100000    chr2  1100000    chr2  1100000         chr2   \n",
       "\n",
       "     region_start  offset_1  offset_2  offset_3  \n",
       "0          900000 -100000.0 -100000.0 -100000.0  \n",
       "1          900000 -100000.0 -100000.0  -50000.0  \n",
       "2          900000 -100000.0 -100000.0       0.0  \n",
       "3          900000 -100000.0 -100000.0   50000.0  \n",
       "4          900000 -100000.0 -100000.0  100000.0  \n",
       "..            ...       ...       ...       ...  \n",
       "245        900000  100000.0  100000.0 -100000.0  \n",
       "246        900000  100000.0  100000.0  -50000.0  \n",
       "247        900000  100000.0  100000.0       0.0  \n",
       "248        900000  100000.0  100000.0   50000.0  \n",
       "249        900000  100000.0  100000.0  100000.0  \n",
       "\n",
       "[250 rows x 11 columns]"
      ]
     },
     "execution_count": 31,
     "metadata": {},
     "output_type": "execute_result"
    }
   ],
   "source": [
    "BasicQuery(query_plan=query_plan)\\\n",
    "    .query(pixels)\\\n",
    "    .load_result()\\\n",
    "    .filter(regex=r\"chrom|start|offset\")"
   ]
  },
  {
   "cell_type": "markdown",
   "metadata": {},
   "source": [
    "## Aggregating genomic data based on it's offset to a target region\n",
    "In this example, we extend the above use-case to aggregate the results based on the offset columns added. This is a common use-case to calculate aggregate statistics for different offset levels. To achieve this, we employ the same query plan as above and extend it using the `OffsetAggregation` query step."
   ]
  },
  {
   "cell_type": "code",
   "execution_count": 34,
   "metadata": {},
   "outputs": [],
   "source": [
    "from spoc.query_engine import OffsetAggregation"
   ]
  },
  {
   "cell_type": "markdown",
   "metadata": {},
   "source": [
    "The `OffsetAggregation` class requires the following parameters:\n",
    "- `value_columns`: Thie specifies the value to aggregate\n",
    "- `function`: The aggregation function to use. This is the enumerated type `AggregationFunction`\n",
    "- `densify_output`: Whether missing offset values should be filled with empty values (specific empty value depends on the aggregation function)\n",
    "\n",
    "Note that there are two different average functions available, `AVG` and `AVG_WITH_EMPTY`. `AVG` performs and average over all available columns, where as `AVG_WITH_EMPTY` counts missing offsets per regions as 0."
   ]
  },
  {
   "cell_type": "code",
   "execution_count": 36,
   "metadata": {},
   "outputs": [],
   "source": [
    "query_plan = [\n",
    "    Snipper(target_regions, anchor_mode=Anchor(mode=\"ANY\")),\n",
    "    RegionOffsetTransformation(),\n",
    "    OffsetAggregation('count'),\n",
    "]"
   ]
  },
  {
   "cell_type": "code",
   "execution_count": 37,
   "metadata": {},
   "outputs": [
    {
     "data": {
      "text/html": [
       "<div>\n",
       "<style scoped>\n",
       "    .dataframe tbody tr th:only-of-type {\n",
       "        vertical-align: middle;\n",
       "    }\n",
       "\n",
       "    .dataframe tbody tr th {\n",
       "        vertical-align: top;\n",
       "    }\n",
       "\n",
       "    .dataframe thead th {\n",
       "        text-align: right;\n",
       "    }\n",
       "</style>\n",
       "<table border=\"1\" class=\"dataframe\">\n",
       "  <thead>\n",
       "    <tr style=\"text-align: right;\">\n",
       "      <th></th>\n",
       "      <th>offset_1</th>\n",
       "      <th>offset_2</th>\n",
       "      <th>offset_3</th>\n",
       "      <th>count</th>\n",
       "    </tr>\n",
       "  </thead>\n",
       "  <tbody>\n",
       "    <tr>\n",
       "      <th>0</th>\n",
       "      <td>-100000.0</td>\n",
       "      <td>-100000.0</td>\n",
       "      <td>-100000.0</td>\n",
       "      <td>4.5</td>\n",
       "    </tr>\n",
       "    <tr>\n",
       "      <th>1</th>\n",
       "      <td>-100000.0</td>\n",
       "      <td>-100000.0</td>\n",
       "      <td>-50000.0</td>\n",
       "      <td>3.0</td>\n",
       "    </tr>\n",
       "    <tr>\n",
       "      <th>2</th>\n",
       "      <td>-100000.0</td>\n",
       "      <td>-100000.0</td>\n",
       "      <td>0.0</td>\n",
       "      <td>5.5</td>\n",
       "    </tr>\n",
       "    <tr>\n",
       "      <th>3</th>\n",
       "      <td>-100000.0</td>\n",
       "      <td>-100000.0</td>\n",
       "      <td>50000.0</td>\n",
       "      <td>5.0</td>\n",
       "    </tr>\n",
       "    <tr>\n",
       "      <th>4</th>\n",
       "      <td>-100000.0</td>\n",
       "      <td>-100000.0</td>\n",
       "      <td>100000.0</td>\n",
       "      <td>6.0</td>\n",
       "    </tr>\n",
       "    <tr>\n",
       "      <th>...</th>\n",
       "      <td>...</td>\n",
       "      <td>...</td>\n",
       "      <td>...</td>\n",
       "      <td>...</td>\n",
       "    </tr>\n",
       "    <tr>\n",
       "      <th>120</th>\n",
       "      <td>100000.0</td>\n",
       "      <td>100000.0</td>\n",
       "      <td>-100000.0</td>\n",
       "      <td>8.0</td>\n",
       "    </tr>\n",
       "    <tr>\n",
       "      <th>121</th>\n",
       "      <td>100000.0</td>\n",
       "      <td>100000.0</td>\n",
       "      <td>-50000.0</td>\n",
       "      <td>4.5</td>\n",
       "    </tr>\n",
       "    <tr>\n",
       "      <th>122</th>\n",
       "      <td>100000.0</td>\n",
       "      <td>100000.0</td>\n",
       "      <td>0.0</td>\n",
       "      <td>4.5</td>\n",
       "    </tr>\n",
       "    <tr>\n",
       "      <th>123</th>\n",
       "      <td>100000.0</td>\n",
       "      <td>100000.0</td>\n",
       "      <td>50000.0</td>\n",
       "      <td>4.5</td>\n",
       "    </tr>\n",
       "    <tr>\n",
       "      <th>124</th>\n",
       "      <td>100000.0</td>\n",
       "      <td>100000.0</td>\n",
       "      <td>100000.0</td>\n",
       "      <td>0.0</td>\n",
       "    </tr>\n",
       "  </tbody>\n",
       "</table>\n",
       "<p>125 rows × 4 columns</p>\n",
       "</div>"
      ],
      "text/plain": [
       "     offset_1  offset_2  offset_3  count\n",
       "0   -100000.0 -100000.0 -100000.0    4.5\n",
       "1   -100000.0 -100000.0  -50000.0    3.0\n",
       "2   -100000.0 -100000.0       0.0    5.5\n",
       "3   -100000.0 -100000.0   50000.0    5.0\n",
       "4   -100000.0 -100000.0  100000.0    6.0\n",
       "..        ...       ...       ...    ...\n",
       "120  100000.0  100000.0 -100000.0    8.0\n",
       "121  100000.0  100000.0  -50000.0    4.5\n",
       "122  100000.0  100000.0       0.0    4.5\n",
       "123  100000.0  100000.0   50000.0    4.5\n",
       "124  100000.0  100000.0  100000.0    0.0\n",
       "\n",
       "[125 rows x 4 columns]"
      ]
     },
     "execution_count": 37,
     "metadata": {},
     "output_type": "execute_result"
    }
   ],
   "source": [
    "BasicQuery(query_plan=query_plan)\\\n",
    "    .query(pixels)\\\n",
    "    .load_result()"
   ]
  }
 ],
 "metadata": {
  "kernelspec": {
   "display_name": "spoc-dev",
   "language": "python",
   "name": "python3"
  },
  "language_info": {
   "codemirror_mode": {
    "name": "ipython",
    "version": 3
   },
   "file_extension": ".py",
   "mimetype": "text/x-python",
   "name": "python",
   "nbconvert_exporter": "python",
   "pygments_lexer": "ipython3",
   "version": "3.8.0"
  }
 },
 "nbformat": 4,
 "nbformat_minor": 2
}
